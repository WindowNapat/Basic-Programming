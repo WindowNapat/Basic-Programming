{
 "cells": [
  {
   "cell_type": "code",
   "execution_count": null,
   "id": "1953d2bc-cc1b-4c9e-a2b9-39e39046546d",
   "metadata": {},
   "outputs": [],
   "source": [
    "import pandas as pd\n",
    "import numpy as np\n",
    "import matplotlib.pyplot as plt\n",
    "import seaborn as sns"
   ]
  },
  {
   "cell_type": "code",
   "execution_count": null,
   "id": "18d104bd-9a27-4f7d-a913-9ed7368d59d2",
   "metadata": {},
   "outputs": [],
   "source": [
    "## Loading articles.csv\n",
    "article_df = pd.read_csv(\"articles.csv\")\n",
    "article_df.head(10)"
   ]
  },
  {
   "cell_type": "code",
   "execution_count": null,
   "id": "c3f9949b-c118-4a1b-a87d-1252546f2156",
   "metadata": {},
   "outputs": [],
   "source": [
    "article_df.info()"
   ]
  },
  {
   "cell_type": "code",
   "execution_count": null,
   "id": "ef9c588b-c693-41b6-b7ee-315f83658322",
   "metadata": {},
   "outputs": [],
   "source": [
    "## Data type\n",
    "## All are nominal data\n",
    "article_df.columns"
   ]
  },
  {
   "cell_type": "code",
   "execution_count": null,
   "id": "aecd0664-0bc2-4d61-92fd-1cf3f163d0b3",
   "metadata": {},
   "outputs": [],
   "source": [
    "## Dataset shape\n",
    "article_df.shape"
   ]
  },
  {
   "cell_type": "code",
   "execution_count": null,
   "id": "e92521c0-618d-4bdc-9d7e-6f0221fbe028",
   "metadata": {},
   "outputs": [],
   "source": [
    "## Seems like each variables \"_no\" or \"_id\" or \"_code\" correspond to the \"_name\"\n",
    "## Drop all column with \"_no\", \"_id\", \"_code\" to prevent the machine thinking that \"1\" is more than \"2\", except \"articel_id\"\n",
    "\n",
    "article_df_no1 = article_df.iloc[:, 1:]\n",
    "\n",
    "article_df_no1.drop(article_df_no1.columns[article_df_no1.columns.str.contains('_no|_code|id')], axis=1, inplace=True)\n",
    "\n",
    "article_df2 = pd.concat([article_df_no1, article_df['article_id']], axis =1)\n",
    "article_df2"
   ]
  },
  {
   "cell_type": "code",
   "execution_count": null,
   "id": "5b3f72bc-1a25-4329-a039-006a653d31e5",
   "metadata": {},
   "outputs": [],
   "source": [
    "article_df2.info()"
   ]
  },
  {
   "cell_type": "code",
   "execution_count": null,
   "id": "bcad6a6c-09f6-4d3e-8001-ea03e2b970a1",
   "metadata": {},
   "outputs": [],
   "source": [
    "## Check for missing value\n",
    "\n",
    "article_df2.isnull().sum()"
   ]
  },
  {
   "cell_type": "code",
   "execution_count": null,
   "id": "2106874b-dd7f-4718-9459-b661b68360b8",
   "metadata": {},
   "outputs": [],
   "source": [
    "## For the sake of ease of EDA, will drop column \"detail desc\". Other column already give almost the same description already\n",
    "## Now, no missing value\n",
    "\n",
    "article_df2.drop('detail_desc', axis= 1, inplace= True)\n",
    "article_df2.head(20)"
   ]
  },
  {
   "cell_type": "code",
   "execution_count": null,
   "id": "6a7bf1e9-8364-492a-bcc9-7324df464e0f",
   "metadata": {
    "tags": []
   },
   "outputs": [],
   "source": [
    "## There are three redundant columns: 'colour_group_name', 'perceived_colour_value_name', 'perceived_colour_master_name'\n",
    "## Checking the value of each column to see if they are the same or similar --> may delete if thet are similar\n",
    "\n",
    "print(article_df2['colour_group_name'].value_counts())\n",
    "print(article_df2['perceived_colour_value_name'].value_counts())\n",
    "print(article_df2['perceived_colour_master_name'].value_counts())"
   ]
  },
  {
   "cell_type": "code",
   "execution_count": null,
   "id": "19e547c5-e7f2-465a-801a-2945fba4108d",
   "metadata": {},
   "outputs": [],
   "source": [
    "## they all explain the color in a similar way \n",
    "## possibly when customer search, the result will be 'perceived_colour_value_name' + 'perceived_colour_master_name' = 'colour_group_name\n",
    "## then no use for 'colour_group_name'\n",
    "\n",
    "article_df2.drop('colour_group_name', axis=1, inplace=True)\n",
    "article_df2.head()"
   ]
  },
  {
   "cell_type": "code",
   "execution_count": null,
   "id": "7e42048a-0639-4339-8047-1bb8683f0db6",
   "metadata": {},
   "outputs": [],
   "source": [
    "## See if \"index_name\" and \"index_group_name\" are redundant\n",
    "print(article_df2['index_name'].value_counts())\n",
    "print(article_df2['index_group_name'].value_counts())\n",
    "\n",
    "## See if \"department_name\" and \"garment_group_name\" are redundant\n",
    "print(article_df2['department_name'].value_counts())\n",
    "print(article_df2['garment_group_name'].value_counts())"
   ]
  },
  {
   "cell_type": "code",
   "execution_count": null,
   "id": "f20f9f30-7413-4ff3-8268-6cad55f12082",
   "metadata": {},
   "outputs": [],
   "source": [
    "##'garment_group_name' name things in a weird way --> remove\n",
    "article_df2.drop('garment_group_name', axis=1, inplace=True)\n",
    "article_df2.head()"
   ]
  },
  {
   "cell_type": "code",
   "execution_count": null,
   "id": "6e4cccce-edd1-4164-b1a3-e915d68a888c",
   "metadata": {},
   "outputs": [],
   "source": [
    "## Check how many variety of item in each column are there\n",
    "\n",
    "p = 0\n",
    "for col in article_df2.columns:\n",
    "    p = article_df2[col].value_counts().count()\n",
    "    print(col, ':', p)\n",
    "    \n",
    "## There are 45875 products in the store, "
   ]
  },
  {
   "cell_type": "code",
   "execution_count": null,
   "id": "0fe2a2ed-db6f-4246-80ec-eed1e4464580",
   "metadata": {},
   "outputs": [],
   "source": [
    "## Check point\n",
    "\n",
    "article_df3 = article_df2.copy()"
   ]
  },
  {
   "cell_type": "code",
   "execution_count": null,
   "id": "ac7a1672-708f-47a6-9416-3ecdafdfceba",
   "metadata": {},
   "outputs": [],
   "source": [
    "article_df3['prod_name'].value_counts()"
   ]
  },
  {
   "cell_type": "code",
   "execution_count": null,
   "id": "395c9790-a6fd-47a5-990e-59976c84006b",
   "metadata": {},
   "outputs": [],
   "source": []
  }
 ],
 "metadata": {
  "kernelspec": {
   "display_name": "Python 3 (ipykernel)",
   "language": "python",
   "name": "python3"
  },
  "language_info": {
   "codemirror_mode": {
    "name": "ipython",
    "version": 3
   },
   "file_extension": ".py",
   "mimetype": "text/x-python",
   "name": "python",
   "nbconvert_exporter": "python",
   "pygments_lexer": "ipython3",
   "version": "3.9.7"
  }
 },
 "nbformat": 4,
 "nbformat_minor": 5
}
